{
 "cells": [
  {
   "cell_type": "markdown",
   "metadata": {},
   "source": [
    "# Introduction to Deep Reinforcement Learning\n",
    "Book: \"Introducción al aprendizaje por refuerzo profundo\", Jordi Torres, 2021, Ed. Watch This Space\n",
    "## Part 1, Chapter 1: Introduction to Deep Reinforcement Learning\n",
    "### Frozen Lake: creation of a dumb agent (random decision)"
   ]
  },
  {
   "cell_type": "markdown",
   "metadata": {},
   "source": [
    "### <font color='darkblue'>PRELIMINAR ELEMENTS</font>"
   ]
  },
  {
   "cell_type": "code",
   "execution_count": 1,
   "metadata": {},
   "outputs": [],
   "source": [
    "# Import Gym library: https://gym.openai.com\n",
    "import gym"
   ]
  },
  {
   "cell_type": "code",
   "execution_count": 2,
   "metadata": {},
   "outputs": [],
   "source": [
    "# Creation of a class Agent: type RANDOM\n",
    "class Agent:\n",
    "    def __init__(self):\n",
    "        self.internalenv = gym.make('FrozenLake-v0', is_slippery = False)\n",
    "        \n",
    "    def select_action(self):\n",
    "        return self.internalenv.action_space.sample()      # decision of next action; RANDOM"
   ]
  },
  {
   "cell_type": "markdown",
   "metadata": {},
   "source": [
    "### <font color='darkblue'>RUNNING ONE SINGLE EPISODE</font>"
   ]
  },
  {
   "cell_type": "code",
   "execution_count": 59,
   "metadata": {},
   "outputs": [
    {
     "name": "stdout",
     "output_type": "stream",
     "text": [
      "  (Up)\n",
      "\u001b[41mS\u001b[0mFFF\n",
      "FHFH\n",
      "FFFH\n",
      "HFFG\n",
      "  (Up)\n",
      "\u001b[41mS\u001b[0mFFF\n",
      "FHFH\n",
      "FFFH\n",
      "HFFG\n",
      "  (Left)\n",
      "\u001b[41mS\u001b[0mFFF\n",
      "FHFH\n",
      "FFFH\n",
      "HFFG\n",
      "  (Left)\n",
      "\u001b[41mS\u001b[0mFFF\n",
      "FHFH\n",
      "FFFH\n",
      "HFFG\n",
      "  (Left)\n",
      "\u001b[41mS\u001b[0mFFF\n",
      "FHFH\n",
      "FFFH\n",
      "HFFG\n",
      "  (Left)\n",
      "\u001b[41mS\u001b[0mFFF\n",
      "FHFH\n",
      "FFFH\n",
      "HFFG\n",
      "  (Right)\n",
      "S\u001b[41mF\u001b[0mFF\n",
      "FHFH\n",
      "FFFH\n",
      "HFFG\n",
      "  (Down)\n",
      "SFFF\n",
      "F\u001b[41mH\u001b[0mFH\n",
      "FFFH\n",
      "HFFG\n",
      "\n",
      "Total time steps:  8\n",
      "NOT SOLVED  :(\n"
     ]
    }
   ],
   "source": [
    "# Initialize variable 'agent' with the 'Agent' class\n",
    "agent = Agent()\n",
    "\n",
    "# Creation of environment FrozenLake, from Gym library, with no splippery\n",
    "env = gym.make('FrozenLake-v0', is_slippery = False)\n",
    "\n",
    "# Running and rendering one single episode\n",
    "env.reset()        # reset environment before running episode\n",
    "is_done = False    # episode completion\n",
    "t = 0              # time step\n",
    " \n",
    "while not is_done:                                   # loop of experiences until episode finishes\n",
    "    action = agent.select_action()                   # passing the decided action\n",
    "    state, reward, is_done, _ = env.step(action)     # interaction with environment acc. to decided action\n",
    "    env.render()                                     # render environment state\n",
    "    t += 1\n",
    "\n",
    "print('\\nTotal time steps: ', t)\n",
    "\n",
    "if state == '15':\n",
    "    print('SOLVED!!!    :)')\n",
    "else:\n",
    "    print('NOT SOLVED  :(')\n",
    "        "
   ]
  },
  {
   "cell_type": "markdown",
   "metadata": {},
   "source": [
    "### <font color='darkblue'>RUNNING A NUMBER OF EPISODES AND COUNTING SUCCESS RATE</font>"
   ]
  },
  {
   "cell_type": "code",
   "execution_count": 3,
   "metadata": {},
   "outputs": [],
   "source": [
    "# Function for running one whole episode\n",
    "def run_episode(agent, env):\n",
    "    env.reset()        # reset environment before running episode\n",
    "    is_done = False    # episode completion\n",
    "    t = 0              # time step\n",
    "    \n",
    "    while not is_done:                                   # loop of experiences until episode finishes\n",
    "        action = agent.select_action()                   # passing the decided action\n",
    "        state, reward, is_done, _ = env.step(action)     # interaction with environment acc. to decided action\n",
    "        t += 1\n",
    "    return (state, reward, is_done)"
   ]
  },
  {
   "cell_type": "code",
   "execution_count": 4,
   "metadata": {},
   "outputs": [
    {
     "name": "stdout",
     "output_type": "stream",
     "text": [
      "\n",
      " Solved 17 times in 1000 episodes. Success rate: 1.70%\n"
     ]
    }
   ],
   "source": [
    "# Initialize variable 'agent' with the 'Agent' class\n",
    "agent = Agent()\n",
    "\n",
    "# Creation of environment FrozenLake, from Gym library, with no splippery\n",
    "env = gym.make('FrozenLake-v0', is_slippery = False)\n",
    "\n",
    "n_episodes = 1000   # Definition of number of episode to run\n",
    "\n",
    "solved = 0\n",
    "for episode in range(n_episodes):\n",
    "    state, reward, is_done = run_episode(agent, env)\n",
    "    if(state == 15):\n",
    "        solved += 1\n",
    "        \n",
    "print(f'\\n Solved {solved} times in {n_episodes} episodes. Success rate: {solved / n_episodes * 100 :.2f}%')\n"
   ]
  },
  {
   "cell_type": "code",
   "execution_count": null,
   "metadata": {},
   "outputs": [],
   "source": []
  },
  {
   "cell_type": "code",
   "execution_count": null,
   "metadata": {},
   "outputs": [],
   "source": []
  }
 ],
 "metadata": {
  "kernelspec": {
   "display_name": "Python 3",
   "language": "python",
   "name": "python3"
  },
  "language_info": {
   "codemirror_mode": {
    "name": "ipython",
    "version": 3
   },
   "file_extension": ".py",
   "mimetype": "text/x-python",
   "name": "python",
   "nbconvert_exporter": "python",
   "pygments_lexer": "ipython3",
   "version": "3.7.9"
  }
 },
 "nbformat": 4,
 "nbformat_minor": 4
}
